{
 "cells": [
  {
   "cell_type": "code",
   "execution_count": null,
   "metadata": {},
   "outputs": [],
   "source": [
    "import logging\n",
    "logging.basicConfig(\n",
    "    level=logging.INFO,\n",
    "    format=\"%(asctime)s - %(levelname)s - %(filename)s:%(lineno)d - %(message)s\",\n",
    ")\n",
    "\n",
    "from app.instructions import global_tools_hub\n",
    "global_tools_hub.load_tools(\"tools\")"
   ]
  },
  {
   "cell_type": "code",
   "execution_count": null,
   "metadata": {},
   "outputs": [],
   "source": [
    "from notebooks.plan_mcts_optimizer import MCTSPlanOptimizer\n",
    "\n",
    "# task_id = pending_tasks[0]['id']\n",
    "task_id = \"459f65c5-6671-4eae-bc41-16ff4e5b8aa4\"\n",
    "\n",
    "optimizer = MCTSPlanOptimizer(task_id=task_id, max_iterations=3, time_limit_seconds=900)"
   ]
  },
  {
   "cell_type": "code",
   "execution_count": null,
   "metadata": {},
   "outputs": [],
   "source": [
    "print(\"optimizing task\", task_id)\n",
    "\n",
    "def print_node(node):\n",
    "    print(\"*\" * 100)\n",
    "    print(node.state.seq_no, node.state.commit_hash, node.visits, node.value)\n",
    "    for suggestion in node.optimization_suggestions:\n",
    "        print(suggestion[\"branch_name\"])\n",
    "        print(suggestion[\"suggestion\"])\n",
    "    for child in node.children:\n",
    "        print_node(child)\n",
    "\n",
    "print_node(optimizer.root)"
   ]
  },
  {
   "cell_type": "code",
   "execution_count": null,
   "metadata": {},
   "outputs": [],
   "source": [
    "optimizer.optimize()"
   ]
  },
  {
   "cell_type": "code",
   "execution_count": null,
   "metadata": {},
   "outputs": [],
   "source": [
    "answers = optimizer.sort_final_answers()\n",
    "answers"
   ]
  },
  {
   "cell_type": "code",
   "execution_count": null,
   "metadata": {},
   "outputs": [],
   "source": [
    "from notebooks.tasks import save_best_plan_from_url\n",
    "\n",
    "save_best_plan_from_url(task_id=task_id, commit_hash=answers[0]['commit_hash'])\n",
    "# save_best_plan_from_url(task_id=\"c255c42b-c85d-450f-aa2b-b101f37adef8\", commit_hash=\"53c56f51425643e296ac04bdebe751d1\")"
   ]
  },
  {
   "cell_type": "code",
   "execution_count": null,
   "metadata": {},
   "outputs": [],
   "source": [
    "from notebooks.tasks import record_evaluation,record_human_evaluation\n",
    "\n",
    "record_evaluation(task_id, \"APPROVED\", f\"The plan is optimized by the LLM, and choose the best answer among {len(answers)} answers.\")\n",
    "record_human_evaluation(task_id, \"APPROVED\", f\"The plan is optimized by the LLM, and choose the best answer among {len(answers)} answers.\")"
   ]
  },
  {
   "cell_type": "code",
   "execution_count": null,
   "metadata": {},
   "outputs": [],
   "source": [
    "from notebooks.tasks import ts\n",
    "from app.config.database import SessionLocal\n",
    "\n",
    "tt_id = '459f65c5-6671-4eae-bc41-16ff4e5b8aa4'\n",
    "keep_branches = ['main']\n",
    "with SessionLocal() as session:\n",
    "    tt = ts.get_task(session, tt_id)\n",
    "    branches = tt.get_branches()\n",
    "    for branch in branches:\n",
    "        if branch['name'] not in keep_branches:\n",
    "            print(f\"deleting branch {branch['name']}\")\n",
    "            tt.delete_branch(branch['name'])\n",
    "        else:\n",
    "            print(f\"keeping branch {branch['name']}\")"
   ]
  }
 ],
 "metadata": {
  "kernelspec": {
   "display_name": "stackvm",
   "language": "python",
   "name": "python3"
  },
  "language_info": {
   "codemirror_mode": {
    "name": "ipython",
    "version": 3
   },
   "file_extension": ".py",
   "mimetype": "text/x-python",
   "name": "python",
   "nbconvert_exporter": "python",
   "pygments_lexer": "ipython3",
   "version": "3.11.10"
  }
 },
 "nbformat": 4,
 "nbformat_minor": 2
}
