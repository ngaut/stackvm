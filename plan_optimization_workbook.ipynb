{
 "cells": [
  {
   "cell_type": "code",
   "execution_count": 1,
   "metadata": {},
   "outputs": [
    {
     "name": "stderr",
     "output_type": "stream",
     "text": [
      "2025-02-19 16:21:42,358 - INFO - tools.py:82 - Loading module report_utils from report_utils.py\n",
      "2025-02-19 16:21:42,396 - INFO - tools.py:82 - Loading module smart_retrieve from smart_retrieve.py\n",
      "2025-02-19 16:21:42,798 - INFO - smart_retrieve.py:214 - Using deepseek-r1-distill-qwen-32b Reasoning LLM\n",
      "2025-02-19 16:21:42,811 - INFO - smart_retrieve.py:216 - Using gpt-4o Evaluation LLM\n",
      "2025-02-19 16:21:42,812 - INFO - tools.py:104 - Registered tool 'retrieve_knowledge_graph' from smart_retrieve.py\n",
      "2025-02-19 16:21:42,812 - INFO - tools.py:82 - Loading module llm from llm.py\n",
      "2025-02-19 16:21:42,827 - INFO - tools.py:104 - Registered tool 'llm_generate' from llm.py\n",
      "2025-02-19 16:21:42,827 - INFO - tools.py:82 - Loading module retrieve from retrieve.py\n",
      "2025-02-19 16:21:42,834 - INFO - tools.py:104 - Registered tool 'vector_search' from retrieve.py\n"
     ]
    }
   ],
   "source": [
    "import logging\n",
    "logging.basicConfig(\n",
    "    level=logging.INFO,\n",
    "    format=\"%(asctime)s - %(levelname)s - %(filename)s:%(lineno)d - %(message)s\",\n",
    ")\n",
    "\n",
    "from app.instructions import global_tools_hub\n",
    "global_tools_hub.load_tools(\"tools\")"
   ]
  },
  {
   "cell_type": "code",
   "execution_count": 2,
   "metadata": {},
   "outputs": [
    {
     "name": "stderr",
     "output_type": "stream",
     "text": [
      "2025-02-19 16:21:46,753 - INFO - base.py:507 - Adding job tentatively -- it will be properly scheduled when the scheduler starts\n",
      "2025-02-19 16:21:46,753 - INFO - base.py:1090 - Added job \"SimpleCache.refresh_cache\" to job store \"default\"\n",
      "2025-02-19 16:21:46,754 - INFO - base.py:214 - Scheduler started\n",
      "2025-02-19 16:21:46,754 - INFO - simple_cache.py:40 - Started cache refresh scheduler to run every 24 hours.\n",
      "2025-02-19 16:21:46,754 - INFO - simple_cache.py:131 - Starting cache refresh...\n",
      "2025-02-19 16:21:47,344 - INFO - simple_cache.py:165 - Cache refresh completed successfully.\n",
      "2025-02-19 16:21:48,396 - INFO - plan_mcts_optimizer.py:343 - add child node: f34a6e63e8d24d5fb355ffca5a925c56(-1) ---> 2e3766b8877a4289a5185c8703429782(0)\n",
      "2025-02-19 16:21:48,397 - INFO - plan_mcts_optimizer.py:343 - add child node: 2e3766b8877a4289a5185c8703429782(0) ---> f44860ce0c9a45fea6505f9d99618d2b(1)\n",
      "2025-02-19 16:21:48,398 - INFO - plan_mcts_optimizer.py:343 - add child node: f44860ce0c9a45fea6505f9d99618d2b(1) ---> d288bacb4e874941b102d0e81349ab72(2)\n",
      "2025-02-19 16:21:48,398 - INFO - plan_mcts_optimizer.py:343 - add child node: d288bacb4e874941b102d0e81349ab72(2) ---> 4960f9260965487cab5610e60bc12f43(3)\n"
     ]
    }
   ],
   "source": [
    "from notebooks.plan_mcts_optimizer import MCTSPlanOptimizer\n",
    "\n",
    "# task_id = pending_tasks[0]['id']\n",
    "task_id = \"459f65c5-6671-4eae-bc41-16ff4e5b8aa4\"\n",
    "\n",
    "optimizer = MCTSPlanOptimizer(task_id=task_id, max_iterations=3, time_limit_seconds=900)"
   ]
  },
  {
   "cell_type": "code",
   "execution_count": 3,
   "metadata": {},
   "outputs": [
    {
     "name": "stdout",
     "output_type": "stream",
     "text": [
      "optimizing task 459f65c5-6671-4eae-bc41-16ff4e5b8aa4\n",
      "****************************************************************************************************\n",
      "-1 f34a6e63e8d24d5fb355ffca5a925c56 0 0.0\n",
      "****************************************************************************************************\n",
      "0 2e3766b8877a4289a5185c8703429782 0 0.0\n",
      "****************************************************************************************************\n",
      "1 f44860ce0c9a45fea6505f9d99618d2b 0 0.0\n",
      "****************************************************************************************************\n",
      "2 d288bacb4e874941b102d0e81349ab72 0 0.0\n",
      "****************************************************************************************************\n",
      "3 4960f9260965487cab5610e60bc12f43 0 0.0\n"
     ]
    }
   ],
   "source": [
    "print(\"optimizing task\", task_id)\n",
    "\n",
    "def print_node(node):\n",
    "    print(\"*\" * 100)\n",
    "    print(node.state.seq_no, node.state.commit_hash, node.visits, node.value)\n",
    "    for suggestion in node.optimization_suggestions:\n",
    "        print(suggestion[\"branch_name\"])\n",
    "        print(suggestion[\"suggestion\"])\n",
    "    for child in node.children:\n",
    "        print_node(child)\n",
    "\n",
    "print_node(optimizer.root)"
   ]
  },
  {
   "cell_type": "code",
   "execution_count": 4,
   "metadata": {},
   "outputs": [
    {
     "name": "stderr",
     "output_type": "stream",
     "text": [
      "2025-02-19 16:21:52,402 - INFO - plan_mcts_optimizer.py:418 - selected node: 4960f9260965487cab5610e60bc12f43(3)\n",
      "2025-02-19 16:21:52,825 - INFO - plan_mcts_optimizer.py:463 - Re-execute node: 4960f9260965487cab5610e60bc12f43(3)\n",
      "2025-02-19 16:21:54,360 - INFO - engine.py:94 - Registered handler for instruction: calling\n",
      "2025-02-19 16:21:54,360 - INFO - engine.py:94 - Registered handler for instruction: jmp\n",
      "2025-02-19 16:21:54,361 - INFO - engine.py:94 - Registered handler for instruction: assign\n",
      "2025-02-19 16:21:54,361 - INFO - engine.py:94 - Registered handler for instruction: reasoning\n",
      "2025-02-19 16:21:54,742 - INFO - engine.py:434 - State loaded from commit 4960f9260965487cab5610e60bc12f43\n",
      "2025-02-19 16:21:55,208 - INFO - engine.py:434 - State loaded from commit 4960f9260965487cab5610e60bc12f43\n",
      "2025-02-19 16:21:55,210 - INFO - manager.py:247 - Generated Plan:{\n",
      "  \"goal\": \"Setting up TiCDC in TiDB\",\n",
      "  \"plan\": [\n",
      "    {\n",
      "      \"parameters\": {\n",
      "        \"chain_of_thoughts\": \"To set up TiCDC in TiDB, we need to gather comprehensive information on the configuration and deployment process. This involves understanding the prerequisites, installation steps, and configuration details. We will use both vector search and knowledge graph search to collect relevant data. Finally, we will synthesize this information using an LLM to generate a detailed setup guide in Chinese.\",\n",
      "        \"dependency_analysis\": \"The LLM generation step depends on the information gathered from both the vector search and knowledge graph search.\"\n",
      "      },\n",
      "      \"seq_no\": 0,\n",
      "      \"type\": \"reasoning\"\n",
      "    },\n",
      "    {\n",
      "      \"parameters\": {\n",
      "        \"output_vars\": [\n",
      "          \"ticdc_info_vector\"\n",
      "        ],\n",
      "        \"tool_name\": \"vector_search\",\n",
      "        \"tool_params\": {\n",
      "          \"query\": \"如何在 TiDB 中设置 TiCDC\",\n",
      "          \"top_k\": 5\n",
      "        }\n",
      "      },\n",
      "      \"seq_no\": 1,\n",
      "      \"type\": \"calling\"\n",
      "    },\n",
      "    {\n",
      "      \"parameters\": {\n",
      "        \"output_vars\": [\n",
      "          \"ticdc_info_kg\"\n",
      "        ],\n",
      "        \"tool_name\": \"retrieve_knowledge_graph\",\n",
      "        \"tool_params\": {\n",
      "          \"query\": \"如何在 TiDB 中设置 TiCDC\"\n",
      "        }\n",
      "      },\n",
      "      \"seq_no\": 2,\n",
      "      \"type\": \"calling\"\n",
      "    },\n",
      "    {\n",
      "      \"parameters\": {\n",
      "        \"output_vars\": [\n",
      "          \"detailed_guide\"\n",
      "        ],\n",
      "        \"tool_name\": \"llm_generate\",\n",
      "        \"tool_params\": {\n",
      "          \"context\": \"${ticdc_info_vector} ${ticdc_info_kg}\",\n",
      "          \"prompt\": \"根据以下信息，生成关于如何在 TiDB 中设置 TiCDC 的详细指南。请确保生成的文本使用中文。\"\n",
      "        }\n",
      "      },\n",
      "      \"seq_no\": 3,\n",
      "      \"type\": \"calling\"\n",
      "    },\n",
      "    {\n",
      "      \"parameters\": {\n",
      "        \"final_answer\": \"${detailed_guide}\"\n",
      "      },\n",
      "      \"seq_no\": 4,\n",
      "      \"type\": \"assign\"\n",
      "    }\n",
      "  ],\n",
      "  \"reasoning\": null\n",
      "}\n",
      "2025-02-19 16:21:55,210 - INFO - engine.py:230 - Executing step 4: Step(seq_no=4, type=assign, status=pending, parameters={'final_answer': '${detailed_guide}'})\n",
      "2025-02-19 16:21:55,211 - INFO - step.py:46 - [Thread] Running Step(seq_no=4, type=assign, status=running, parameters={'final_answer': '${detailed_guide}'})\n",
      "2025-02-19 16:21:55,211 - INFO - step.py:58 - [Thread] Finished Step(seq_no=4, type=assign, status=successful, parameters={'final_answer': '${detailed_guide}'})\n",
      "2025-02-19 16:21:55,212 - INFO - engine.py:357 - Goal has been marked as completed.\n",
      "2025-02-19 16:21:55,212 - INFO - engine.py:161 - Commit message -  Executed seq_no: 4, step: assign with parameters: {\"final_answer\": \"${detailed_guide}\"}\n",
      "2025-02-19 16:21:55,213 - INFO - engine.py:170 - Output variables: {\"final_answer\": \"在 TiDB 中设置 TiCDC 是一个多步骤的过程，涉及到配置、部署和管理。以下是详细的指南，帮助...\"}\n",
      "2025-02-19 16:21:55,793 - INFO - manager.py:211 - Goal completed during plan execution.\n",
      "2025-02-19 16:21:56,495 - INFO - manager.py:590 - Saved task 459f65c5-6671-4eae-bc41-16ff4e5b8aa4 to the database.\n",
      "2025-02-19 16:21:56,495 - INFO - manager.py:218 - final_answer: 在 TiDB 中设置 TiCDC 是一个多步骤的过程，涉及到配置、部署和管理。以下是详细的指南，帮助您在 TiDB 中成功设置 TiCDC。\n",
      "\n",
      "### 1. 软件和硬件要求\n",
      "\n",
      "在生产环境中，建议的硬件和软件配置如下：\n",
      "\n",
      "- **操作系统**：Red Hat Enterprise Linux 7.3 或更高版本，CentOS 7.3 或更高版本。\n",
      "- **CPU**：16 核以上\n",
      "- **内存**：64 GB 以上\n",
      "- **磁盘**：500 GB 以上的 SSD\n",
      "- **网络**：10 千兆网卡（建议使用 2 个）\n",
      "\n",
      "更多详细信息，请参阅 [软件和硬件推荐](https://docs.pingcap.com/tidb/v8.1/deploy-ticdc)。\n",
      "\n",
      "### 2. 部署 TiCDC\n",
      "\n",
      "#### 使用 TiUP 部署新的 TiDB 集群并包含 TiCDC\n",
      "\n",
      "在使用 TiUP 部署新的 TiDB 集群时，可以同时部署 TiCDC。只需在 TiUP 使用的配置文件中添加 `cdc_servers` 部分。例如：\n",
      "\n",
      "```yaml\n",
      "cdc_servers:\n",
      "  - host: 10.0.1.20\n",
      "    gc-ttl: 86400\n",
      "    data_dir: \"/cdc-data\"\n",
      "  - host: 10.0.1.21\n",
      "    gc-ttl: 86400\n",
      "    data_dir: \"/cdc-data\"\n",
      "```\n",
      "\n",
      "详细的操作步骤可以参考 [使用 TiUP 部署 TiDB 集群](https://docs.pingcap.com/tidb/v8.1/production-deployment-using-tiup)。\n",
      "\n",
      "#### 向现有 TiDB 集群添加或扩展 TiCDC\n",
      "\n",
      "可以使用 TiUP 扩展 TiCDC 集群。创建一个 `scale-out.yml` 文件来添加 TiCDC 节点信息，然后运行扩展命令：\n",
      "\n",
      "```shell\n",
      "tiup cluster scale-out <cluster-name> scale-out.yml\n",
      "```\n",
      "\n",
      "更多用例请参阅 [扩展 TiCDC 集群](https://docs.pingcap.com/tidb/v8.1/deploy-ticdc)。\n",
      "\n",
      "### 3. 管理 TiCDC 集群和复制任务\n",
      "\n",
      "您可以使用 `cdc cli` 工具来管理 TiCDC 集群的状态和数据复制任务。详细信息请参阅：\n",
      "\n",
      "- [使用 `cdc cli` 管理集群状态和数据复制任务](https://docs.pingcap.com/tidb/v8.1/ticdc-overview)\n",
      "- [使用 OpenAPI 管理集群状态和数据复制任务](https://docs.pingcap.com/tidb/v8.1/ticdc-open-api)\n",
      "\n",
      "### 4. TiCDC 开放协议\n",
      "\n",
      "TiCDC 开放协议是一种行级数据变更通知协议，提供监控、缓存、全文索引、分析引擎和不同数据库之间的主从复制的数据源。TiCDC 遵循此协议，将 TiDB 的数据变更复制到第三方数据媒介，如消息队列（MQ）。更多信息请参阅 [TiCDC 开放协议](https://docs.pingcap.com/tidb/v8.1/ticdc-open-protocol)。\n",
      "\n",
      "通过以上步骤，您可以在 TiDB 中成功设置和管理 TiCDC。确保在每个步骤中遵循最佳实践，以确保系统的稳定性和性能。\n",
      "2025-02-19 16:21:57,858 - INFO - plan_mcts_optimizer.py:418 - selected node: 4960f9260965487cab5610e60bc12f43(3)\n"
     ]
    },
    {
     "name": "stderr",
     "output_type": "stream",
     "text": [
      "2025-02-19 16:21:56,754 - INFO - base.py:129 - Running job \"SimpleCache.refresh_cache (trigger: interval[1 day, 0:00:00], next run at: 2025-02-19 16:21:56 +08)\" (scheduled at 2025-02-19 16:21:56.753068+08:00)\n",
      "2025-02-19 16:21:56,756 - INFO - simple_cache.py:131 - Starting cache refresh...\n",
      "2025-02-19 16:21:57,607 - INFO - simple_cache.py:165 - Cache refresh completed successfully.\n",
      "2025-02-19 16:21:57,608 - INFO - base.py:156 - Job \"SimpleCache.refresh_cache (trigger: interval[1 day, 0:00:00], next run at: 2025-02-20 16:21:56 +08)\" executed successfully\n"
     ]
    },
    {
     "name": "stdout",
     "output_type": "stream",
     "text": [
      "xxxx []\n"
     ]
    },
    {
     "name": "stderr",
     "output_type": "stream",
     "text": [
      "2025-02-19 16:21:58,308 - INFO - engine.py:64 - ThreadPoolExecutor has been shut down.\n"
     ]
    },
    {
     "ename": "NoResultFound",
     "evalue": "No row was found when one was required",
     "output_type": "error",
     "traceback": [
      "\u001b[0;31m---------------------------------------------------------------------------\u001b[0m",
      "\u001b[0;31mNoResultFound\u001b[0m                             Traceback (most recent call last)",
      "Cell \u001b[0;32mIn[4], line 1\u001b[0m\n\u001b[0;32m----> 1\u001b[0m \u001b[43moptimizer\u001b[49m\u001b[38;5;241;43m.\u001b[39;49m\u001b[43moptimize\u001b[49m\u001b[43m(\u001b[49m\u001b[43m)\u001b[49m\n",
      "File \u001b[0;32m~/Work/stackvm/notebooks/plan_mcts_optimizer.py:663\u001b[0m, in \u001b[0;36mMCTSPlanOptimizer.optimize\u001b[0;34m(self)\u001b[0m\n\u001b[1;32m    660\u001b[0m     \u001b[38;5;28;01mbreak\u001b[39;00m  \u001b[38;5;66;03m# Or implement some tree reset/regeneration logic\u001b[39;00m\n\u001b[1;32m    662\u001b[0m \u001b[38;5;66;03m# Expansion\u001b[39;00m\n\u001b[0;32m--> 663\u001b[0m \u001b[38;5;28;43mself\u001b[39;49m\u001b[38;5;241;43m.\u001b[39;49m\u001b[43mexpand_node\u001b[49m\u001b[43m(\u001b[49m\u001b[43mselected_node\u001b[49m\u001b[43m)\u001b[49m\n\u001b[1;32m    665\u001b[0m \u001b[38;5;66;03m# Simulation\u001b[39;00m\n\u001b[1;32m    666\u001b[0m \u001b[38;5;250m\u001b[39m\u001b[38;5;124;03m\"\"\"\u001b[39;00m\n\u001b[1;32m    667\u001b[0m \u001b[38;5;124;03mneed_backprop, reward = self.simulate(new_node)\u001b[39;00m\n\u001b[1;32m    668\u001b[0m \u001b[38;5;124;03mif need_backprop:\u001b[39;00m\n\u001b[1;32m    669\u001b[0m \u001b[38;5;124;03m    # Backpropagation\u001b[39;00m\n\u001b[1;32m    670\u001b[0m \u001b[38;5;124;03m    self.backpropagate(new_node, reward)\u001b[39;00m\n\u001b[1;32m    671\u001b[0m \u001b[38;5;124;03m\"\"\"\u001b[39;00m\n",
      "File \u001b[0;32m~/Work/stackvm/notebooks/plan_mcts_optimizer.py:431\u001b[0m, in \u001b[0;36mMCTSPlanOptimizer.expand_node\u001b[0;34m(self, node)\u001b[0m\n\u001b[1;32m    429\u001b[0m     current_branch \u001b[38;5;241m=\u001b[39m \u001b[38;5;28mself\u001b[39m\u001b[38;5;241m.\u001b[39m_apply_reflection(node)\n\u001b[1;32m    430\u001b[0m \u001b[38;5;28;01melif\u001b[39;00m \u001b[38;5;129;01mnot\u001b[39;00m node\u001b[38;5;241m.\u001b[39mchildren \u001b[38;5;129;01mand\u001b[39;00m \u001b[38;5;129;01mnot\u001b[39;00m node\u001b[38;5;241m.\u001b[39mis_last_step():\n\u001b[0;32m--> 431\u001b[0m     current_branch \u001b[38;5;241m=\u001b[39m \u001b[38;5;28;43mself\u001b[39;49m\u001b[38;5;241;43m.\u001b[39;49m\u001b[43m_apply_execute\u001b[49m\u001b[43m(\u001b[49m\u001b[43mnode\u001b[49m\u001b[43m)\u001b[49m\n\u001b[1;32m    432\u001b[0m \u001b[38;5;28;01melse\u001b[39;00m:\n\u001b[1;32m    433\u001b[0m     \u001b[38;5;28;01mreturn\u001b[39;00m \u001b[38;5;28;01mNone\u001b[39;00m\n",
      "File \u001b[0;32m~/Work/stackvm/notebooks/plan_mcts_optimizer.py:462\u001b[0m, in \u001b[0;36mMCTSPlanOptimizer._apply_execute\u001b[0;34m(self, node)\u001b[0m\n\u001b[1;32m    459\u001b[0m \u001b[38;5;28;01mdef\u001b[39;00m \u001b[38;5;21m_apply_execute\u001b[39m(\u001b[38;5;28mself\u001b[39m, node: MCTSNode):\n\u001b[1;32m    460\u001b[0m \u001b[38;5;250m    \u001b[39m\u001b[38;5;124;03m\"\"\"Apply an optimization suggestion to create a new state.\"\"\"\u001b[39;00m\n\u001b[0;32m--> 462\u001b[0m     current_branch \u001b[38;5;241m=\u001b[39m \u001b[43mget_branch\u001b[49m\u001b[43m(\u001b[49m\u001b[38;5;28;43mself\u001b[39;49m\u001b[38;5;241;43m.\u001b[39;49m\u001b[43mtask_id\u001b[49m\u001b[43m,\u001b[49m\u001b[43m \u001b[49m\u001b[43mnode\u001b[49m\u001b[38;5;241;43m.\u001b[39;49m\u001b[43mstate\u001b[49m\u001b[38;5;241;43m.\u001b[39;49m\u001b[43mcommit_hash\u001b[49m\u001b[43m)\u001b[49m\n\u001b[1;32m    463\u001b[0m     logger\u001b[38;5;241m.\u001b[39minfo(\n\u001b[1;32m    464\u001b[0m         \u001b[38;5;124m\"\u001b[39m\u001b[38;5;124mRe-execute node: \u001b[39m\u001b[38;5;132;01m%s\u001b[39;00m\u001b[38;5;124m(\u001b[39m\u001b[38;5;132;01m%s\u001b[39;00m\u001b[38;5;124m)\u001b[39m\u001b[38;5;124m\"\u001b[39m, node\u001b[38;5;241m.\u001b[39mstate\u001b[38;5;241m.\u001b[39mcommit_hash, node\u001b[38;5;241m.\u001b[39mstate\u001b[38;5;241m.\u001b[39mseq_no\n\u001b[1;32m    465\u001b[0m     )\n\u001b[1;32m    467\u001b[0m     \u001b[38;5;28;01mwith\u001b[39;00m SessionLocal() \u001b[38;5;28;01mas\u001b[39;00m session:\n",
      "File \u001b[0;32m~/Work/stackvm/notebooks/plan_mcts_optimizer.py:52\u001b[0m, in \u001b[0;36mget_branch\u001b[0;34m(task_id, head_commit_hash)\u001b[0m\n\u001b[1;32m     46\u001b[0m \u001b[38;5;28;01mdef\u001b[39;00m \u001b[38;5;21mget_branch\u001b[39m(task_id: \u001b[38;5;28mstr\u001b[39m, head_commit_hash: \u001b[38;5;28mstr\u001b[39m) \u001b[38;5;241m-\u001b[39m\u001b[38;5;241m>\u001b[39m \u001b[38;5;28mstr\u001b[39m:\n\u001b[1;32m     47\u001b[0m     \u001b[38;5;28;01mwith\u001b[39;00m SessionLocal() \u001b[38;5;28;01mas\u001b[39;00m session:\n\u001b[1;32m     48\u001b[0m         branch \u001b[38;5;241m=\u001b[39m \u001b[43msession\u001b[49m\u001b[38;5;241;43m.\u001b[39;49m\u001b[43mexecute\u001b[49m\u001b[43m(\u001b[49m\n\u001b[1;32m     49\u001b[0m \u001b[43m            \u001b[49m\u001b[43mselect\u001b[49m\u001b[43m(\u001b[49m\u001b[43mBranch\u001b[49m\u001b[43m)\u001b[49m\u001b[38;5;241;43m.\u001b[39;49m\u001b[43mwhere\u001b[49m\u001b[43m(\u001b[49m\n\u001b[1;32m     50\u001b[0m \u001b[43m                \u001b[49m\u001b[43mBranch\u001b[49m\u001b[38;5;241;43m.\u001b[39;49m\u001b[43mtask_id\u001b[49m\u001b[43m \u001b[49m\u001b[38;5;241;43m==\u001b[39;49m\u001b[43m \u001b[49m\u001b[43mtask_id\u001b[49m\u001b[43m,\u001b[49m\u001b[43m \u001b[49m\u001b[43mBranch\u001b[49m\u001b[38;5;241;43m.\u001b[39;49m\u001b[43mhead_commit_hash\u001b[49m\u001b[43m \u001b[49m\u001b[38;5;241;43m==\u001b[39;49m\u001b[43m \u001b[49m\u001b[43mhead_commit_hash\u001b[49m\n\u001b[1;32m     51\u001b[0m \u001b[43m            \u001b[49m\u001b[43m)\u001b[49m\n\u001b[0;32m---> 52\u001b[0m \u001b[43m        \u001b[49m\u001b[43m)\u001b[49m\u001b[38;5;241;43m.\u001b[39;49m\u001b[43mscalar_one\u001b[49m\u001b[43m(\u001b[49m\u001b[43m)\u001b[49m\n\u001b[1;32m     54\u001b[0m         \u001b[38;5;28;01mreturn\u001b[39;00m branch\u001b[38;5;241m.\u001b[39mname\n",
      "File \u001b[0;32m~/miniconda3/envs/stackvm/lib/python3.11/site-packages/sqlalchemy/engine/result.py:1464\u001b[0m, in \u001b[0;36mResult.scalar_one\u001b[0;34m(self)\u001b[0m\n\u001b[1;32m   1451\u001b[0m \u001b[38;5;28;01mdef\u001b[39;00m \u001b[38;5;21mscalar_one\u001b[39m(\u001b[38;5;28mself\u001b[39m) \u001b[38;5;241m-\u001b[39m\u001b[38;5;241m>\u001b[39m Any:\n\u001b[1;32m   1452\u001b[0m \u001b[38;5;250m    \u001b[39m\u001b[38;5;124;03m\"\"\"Return exactly one scalar result or raise an exception.\u001b[39;00m\n\u001b[1;32m   1453\u001b[0m \n\u001b[1;32m   1454\u001b[0m \u001b[38;5;124;03m    This is equivalent to calling :meth:`_engine.Result.scalars` and\u001b[39;00m\n\u001b[0;32m   (...)\u001b[0m\n\u001b[1;32m   1462\u001b[0m \n\u001b[1;32m   1463\u001b[0m \u001b[38;5;124;03m    \"\"\"\u001b[39;00m\n\u001b[0;32m-> 1464\u001b[0m     \u001b[38;5;28;01mreturn\u001b[39;00m \u001b[38;5;28;43mself\u001b[39;49m\u001b[38;5;241;43m.\u001b[39;49m\u001b[43m_only_one_row\u001b[49m\u001b[43m(\u001b[49m\n\u001b[1;32m   1465\u001b[0m \u001b[43m        \u001b[49m\u001b[43mraise_for_second_row\u001b[49m\u001b[38;5;241;43m=\u001b[39;49m\u001b[38;5;28;43;01mTrue\u001b[39;49;00m\u001b[43m,\u001b[49m\u001b[43m \u001b[49m\u001b[43mraise_for_none\u001b[49m\u001b[38;5;241;43m=\u001b[39;49m\u001b[38;5;28;43;01mTrue\u001b[39;49;00m\u001b[43m,\u001b[49m\u001b[43m \u001b[49m\u001b[43mscalar\u001b[49m\u001b[38;5;241;43m=\u001b[39;49m\u001b[38;5;28;43;01mTrue\u001b[39;49;00m\n\u001b[1;32m   1466\u001b[0m \u001b[43m    \u001b[49m\u001b[43m)\u001b[49m\n",
      "File \u001b[0;32m~/miniconda3/envs/stackvm/lib/python3.11/site-packages/sqlalchemy/engine/result.py:752\u001b[0m, in \u001b[0;36mResultInternal._only_one_row\u001b[0;34m(self, raise_for_second_row, raise_for_none, scalar)\u001b[0m\n\u001b[1;32m    750\u001b[0m \u001b[38;5;28;01mif\u001b[39;00m row \u001b[38;5;129;01mis\u001b[39;00m \u001b[38;5;28;01mNone\u001b[39;00m:\n\u001b[1;32m    751\u001b[0m     \u001b[38;5;28;01mif\u001b[39;00m raise_for_none:\n\u001b[0;32m--> 752\u001b[0m         \u001b[38;5;28;01mraise\u001b[39;00m exc\u001b[38;5;241m.\u001b[39mNoResultFound(\n\u001b[1;32m    753\u001b[0m             \u001b[38;5;124m\"\u001b[39m\u001b[38;5;124mNo row was found when one was required\u001b[39m\u001b[38;5;124m\"\u001b[39m\n\u001b[1;32m    754\u001b[0m         )\n\u001b[1;32m    755\u001b[0m     \u001b[38;5;28;01melse\u001b[39;00m:\n\u001b[1;32m    756\u001b[0m         \u001b[38;5;28;01mreturn\u001b[39;00m \u001b[38;5;28;01mNone\u001b[39;00m\n",
      "\u001b[0;31mNoResultFound\u001b[0m: No row was found when one was required"
     ]
    }
   ],
   "source": [
    "optimizer.optimize()"
   ]
  },
  {
   "cell_type": "code",
   "execution_count": null,
   "metadata": {},
   "outputs": [],
   "source": [
    "answers = optimizer.sort_final_answers()\n",
    "answers"
   ]
  },
  {
   "cell_type": "code",
   "execution_count": null,
   "metadata": {},
   "outputs": [],
   "source": [
    "from notebooks.tasks import save_best_plan_from_url\n",
    "\n",
    "save_best_plan_from_url(task_id=task_id, commit_hash=answers[0]['commit_hash'])\n",
    "# save_best_plan_from_url(task_id=\"c255c42b-c85d-450f-aa2b-b101f37adef8\", commit_hash=\"53c56f51425643e296ac04bdebe751d1\")"
   ]
  },
  {
   "cell_type": "code",
   "execution_count": null,
   "metadata": {},
   "outputs": [],
   "source": [
    "from notebooks.tasks import record_evaluation\n",
    "\n",
    "record_evaluation(task_id, \"APPROVED\", f\"The plan is optimized by the LLM, and choose the best answer among {len(answers)} answers.\")"
   ]
  },
  {
   "cell_type": "code",
   "execution_count": null,
   "metadata": {},
   "outputs": [],
   "source": [
    "from notebooks.tasks import ts\n",
    "from app.config.database import SessionLocal\n",
    "\n",
    "tt_id = '459f65c5-6671-4eae-bc41-16ff4e5b8aa4'\n",
    "keep_branches = ['main']\n",
    "with SessionLocal() as session:\n",
    "    tt = ts.get_task(session, tt_id)\n",
    "    branches = tt.get_branches()\n",
    "    for branch in branches:\n",
    "        if branch['name'] not in keep_branches:\n",
    "            print(f\"deleting branch {branch['name']}\")\n",
    "            tt.delete_branch(branch['name'])\n",
    "        else:\n",
    "            print(f\"keeping branch {branch['name']}\")"
   ]
  }
 ],
 "metadata": {
  "kernelspec": {
   "display_name": "stackvm",
   "language": "python",
   "name": "python3"
  },
  "language_info": {
   "codemirror_mode": {
    "name": "ipython",
    "version": 3
   },
   "file_extension": ".py",
   "mimetype": "text/x-python",
   "name": "python",
   "nbconvert_exporter": "python",
   "pygments_lexer": "ipython3",
   "version": "3.11.10"
  }
 },
 "nbformat": 4,
 "nbformat_minor": 2
}
