{
 "cells": [
  {
   "cell_type": "code",
   "execution_count": 1,
   "metadata": {},
   "outputs": [
    {
     "name": "stderr",
     "output_type": "stream",
     "text": [
      "2025-02-18 20:11:55,886 - INFO - tools.py:82 - Loading module report_utils from report_utils.py\n",
      "2025-02-18 20:11:55,936 - INFO - tools.py:82 - Loading module smart_retrieve from smart_retrieve.py\n",
      "2025-02-18 20:11:56,444 - INFO - smart_retrieve.py:214 - Using deepseek-r1-distill-qwen-32b Reasoning LLM\n",
      "2025-02-18 20:11:56,456 - INFO - smart_retrieve.py:216 - Using gpt-4o Evaluation LLM\n",
      "2025-02-18 20:11:56,456 - INFO - tools.py:104 - Registered tool 'retrieve_knowledge_graph' from smart_retrieve.py\n",
      "2025-02-18 20:11:56,457 - INFO - tools.py:82 - Loading module llm from llm.py\n",
      "2025-02-18 20:11:56,471 - INFO - tools.py:104 - Registered tool 'llm_generate' from llm.py\n",
      "2025-02-18 20:11:56,471 - INFO - tools.py:82 - Loading module retrieve from retrieve.py\n",
      "2025-02-18 20:11:56,480 - INFO - tools.py:104 - Registered tool 'vector_search' from retrieve.py\n"
     ]
    }
   ],
   "source": [
    "import logging\n",
    "logging.basicConfig(\n",
    "    level=logging.INFO,\n",
    "    format=\"%(asctime)s - %(levelname)s - %(filename)s:%(lineno)d - %(message)s\",\n",
    ")\n",
    "\n",
    "from app.instructions import global_tools_hub\n",
    "global_tools_hub.load_tools(\"tools\")"
   ]
  },
  {
   "cell_type": "code",
   "execution_count": null,
   "metadata": {},
   "outputs": [],
   "source": [
    "from notebooks.tasks import get_evaluation_pending_tasks\n",
    "from datetime import datetime, timedelta\n",
    "\n",
    "end_time = datetime.utcnow()\n",
    "start_time = end_time - timedelta(hours=4)\n",
    "\n",
    "pending_tasks = get_evaluation_pending_tasks(\n",
    "    start_time=start_time,\n",
    "    statuses=[\"REJECTED\"]\n",
    ")\n",
    "\n",
    "pending_tasks = [t for t in pending_tasks if t['status'] == \"completed\" and t['human_evaluation_status'] == \"WAITING_FOR_EVALUATION\"]\n",
    "pending_tasks"
   ]
  },
  {
   "cell_type": "code",
   "execution_count": 2,
   "metadata": {},
   "outputs": [
    {
     "name": "stderr",
     "output_type": "stream",
     "text": [
      "2025-02-18 20:12:17,590 - INFO - base.py:507 - Adding job tentatively -- it will be properly scheduled when the scheduler starts\n",
      "2025-02-18 20:12:17,590 - INFO - base.py:1090 - Added job \"SimpleCache.refresh_cache\" to job store \"default\"\n",
      "2025-02-18 20:12:17,591 - INFO - base.py:214 - Scheduler started\n",
      "2025-02-18 20:12:17,591 - INFO - simple_cache.py:40 - Started cache refresh scheduler to run every 24 hours.\n",
      "2025-02-18 20:12:17,592 - INFO - simple_cache.py:131 - Starting cache refresh...\n",
      "2025-02-18 20:12:18,010 - INFO - simple_cache.py:165 - Cache refresh completed successfully.\n",
      "2025-02-18 20:12:18,824 - INFO - plan_mcts_optimizer.py:336 - add child node: 58082dd4aeee4a89870817fb11247611(-1) ---> 762408de52714372bb777449b7f625db(0)\n",
      "2025-02-18 20:12:18,825 - INFO - plan_mcts_optimizer.py:336 - add child node: 762408de52714372bb777449b7f625db(0) ---> 282930766af54277b8a0ed271db6543c(1)\n",
      "2025-02-18 20:12:18,826 - INFO - plan_mcts_optimizer.py:336 - add child node: 282930766af54277b8a0ed271db6543c(1) ---> 4ca4b3064ac8494a8139a099e65a0590(2)\n",
      "2025-02-18 20:12:18,827 - INFO - plan_mcts_optimizer.py:336 - add child node: 4ca4b3064ac8494a8139a099e65a0590(2) ---> 25e13ecf59ad44f09a888c400db1c7b4(3)\n",
      "2025-02-18 20:12:23,500 - INFO - _client.py:1038 - HTTP Request: POST https://api.openai.com/v1/chat/completions \"HTTP/1.1 200 OK\"\n",
      "2025-02-18 20:12:23,508 - INFO - plan_mcts_optimizer.py:492 - evaluate answer: 25e13ecf59ad44f09a888c400db1c7b4(3) response: {'accept': False, 'plan_adjustment_suggestion': \"The Final Answer does not directly address the user's Goal of diagnosing and resolving schema lease errors on a single TiDB node using tools like `tidb-ctl`. While it provides a general overview of potential causes and solutions for schema lease errors, it lacks specific instructions on using `tidb-ctl` or other diagnostic tools as requested. The Plan should include steps to gather and analyze diagnostic data specifically from `tidb-ctl`, and provide actionable steps tailored to the user's context. Additionally, the Plan should ensure that the retrieved documentation is directly applicable to the use of `tidb-ctl` for diagnosing schema lease errors.\", 'goal_classification': 'Direct Problem Resolution'}\n",
      "2025-02-18 20:12:23,508 - INFO - plan_mcts_optimizer.py:553 - backpropagate: 25e13ecf59ad44f09a888c400db1c7b4(3)\n",
      "2025-02-18 20:12:26,891 - INFO - _client.py:1038 - HTTP Request: POST https://api.openai.com/v1/chat/completions \"HTTP/1.1 200 OK\"\n",
      "2025-02-18 20:12:26,894 - INFO - plan_mcts_optimizer.py:243 - reflect on final answer: {'should_optimize': True, 'suggestion': \"The final answer should be optimized to directly address the user's goal of diagnosing and resolving schema lease errors on a single TiDB node using tools like `tidb-ctl`. To improve the answer, new steps should be added to provide specific instructions on using `tidb-ctl` for diagnosing schema lease errors. This includes commands to check the schema version, identify discrepancies, and gather relevant logs. Additionally, the reasoning process should incorporate guidance on interpreting the output from `tidb-ctl` and other diagnostic tools to pinpoint the root cause of the errors. This will ensure the answer is actionable and tailored to the user's context.\\nPlease keep all steps up to and including the step (3) unchanged.\", 'branch_name': 'main'} for main(25e13ecf59ad44f09a888c400db1c7b4)\n",
      "2025-02-18 20:12:27,592 - INFO - base.py:129 - Running job \"SimpleCache.refresh_cache (trigger: interval[1 day, 0:00:00], next run at: 2025-02-18 20:12:27 +08)\" (scheduled at 2025-02-18 20:12:27.589661+08:00)\n",
      "2025-02-18 20:12:27,594 - INFO - simple_cache.py:131 - Starting cache refresh...\n",
      "2025-02-18 20:12:28,769 - INFO - simple_cache.py:165 - Cache refresh completed successfully.\n",
      "2025-02-18 20:12:28,770 - INFO - base.py:156 - Job \"SimpleCache.refresh_cache (trigger: interval[1 day, 0:00:00], next run at: 2025-02-19 20:12:27 +08)\" executed successfully\n",
      "2025-02-18 20:12:30,465 - INFO - _client.py:1038 - HTTP Request: POST https://api.openai.com/v1/chat/completions \"HTTP/1.1 200 OK\"\n",
      "2025-02-18 20:12:30,468 - INFO - plan_mcts_optimizer.py:243 - reflect on final answer: {'should_optimize': True, 'suggestion': \"The remaining steps should be optimized to directly address the user's goal of diagnosing and resolving schema lease errors on a single TiDB node using tools like `tidb-ctl`. Specific improvements include: 1) Adding a step to provide detailed instructions on using `tidb-ctl` to gather diagnostic data related to schema lease errors. This should include commands and expected outputs. 2) Including a step to analyze the gathered data to identify specific issues on the node. 3) Providing actionable steps based on the analysis to resolve the identified issues. This approach will ensure the final answer is tailored to the user's context and provides practical guidance.\\nPlease keep all steps up to and including the step (2) unchanged.\", 'branch_name': 'main'} for main(4ca4b3064ac8494a8139a099e65a0590)\n",
      "2025-02-18 20:12:35,787 - INFO - _client.py:1038 - HTTP Request: POST https://api.openai.com/v1/chat/completions \"HTTP/1.1 200 OK\"\n",
      "2025-02-18 20:12:35,789 - INFO - plan_mcts_optimizer.py:243 - reflect on final answer: {'should_optimize': True, 'suggestion': \"The remaining steps should be optimized to directly address the user's goal of diagnosing and resolving schema lease errors on a single TiDB node using tools like `tidb-ctl`. Specifically, the steps should include detailed instructions on how to use `tidb-ctl` to gather diagnostic data from the affected node. Additionally, the solution should provide actionable steps tailored to the user's context, such as specific commands or configurations to check and adjust. This can be achieved by adding a step to gather specific documentation or examples on using `tidb-ctl` for schema lease error diagnosis, and then using llm_generate to synthesize this information into a practical guide for the user.\\nPlease keep all steps up to and including the step (1) unchanged.\", 'branch_name': 'main'} for main(282930766af54277b8a0ed271db6543c)\n",
      "2025-02-18 20:12:44,027 - INFO - _client.py:1038 - HTTP Request: POST https://api.openai.com/v1/chat/completions \"HTTP/1.1 200 OK\"\n",
      "2025-02-18 20:12:44,028 - INFO - plan_mcts_optimizer.py:243 - reflect on final answer: {'should_optimize': True, 'suggestion': \"The remaining steps should be optimized to directly address the user's goal of diagnosing and resolving schema lease errors on a single TiDB node using `tidb-ctl`. Specifically, the steps should include: 1) Adding a step to gather specific diagnostic commands and procedures using `tidb-ctl` to check schema versions and lease status on the affected node. 2) Modifying the vector_search step to focus on retrieving documentation or guides specifically related to using `tidb-ctl` for schema lease error diagnosis. 3) Enhancing the llm_generate step to synthesize the gathered information into a step-by-step guide for using `tidb-ctl` to diagnose and resolve the issue, ensuring the solution is tailored to the user's context.\\nPlease keep all steps up to and including the step (0) unchanged.\", 'branch_name': 'main'} for main(762408de52714372bb777449b7f625db)\n"
     ]
    }
   ],
   "source": [
    "from notebooks.plan_mcts_optimizer import MCTSPlanOptimizer\n",
    "\n",
    "# task_id = pending_tasks[0]['id']\n",
    "task_id = \"e7a7c4d4-bbfd-47d1-9375-0e821032e122\"\n",
    "\n",
    "optimizer = MCTSPlanOptimizer(task_id=task_id, max_iterations=3, time_limit_seconds=900)"
   ]
  },
  {
   "cell_type": "code",
   "execution_count": 3,
   "metadata": {},
   "outputs": [
    {
     "name": "stdout",
     "output_type": "stream",
     "text": [
      "optimizing task e7a7c4d4-bbfd-47d1-9375-0e821032e122\n",
      "****************************************************************************************************\n",
      "-1 58082dd4aeee4a89870817fb11247611 1 0.0\n",
      "****************************************************************************************************\n",
      "0 762408de52714372bb777449b7f625db 1 0.0\n",
      "main\n",
      "The remaining steps should be optimized to directly address the user's goal of diagnosing and resolving schema lease errors on a single TiDB node using `tidb-ctl`. Specifically, the steps should include: 1) Adding a step to gather specific diagnostic commands and procedures using `tidb-ctl` to check schema versions and lease status on the affected node. 2) Modifying the vector_search step to focus on retrieving documentation or guides specifically related to using `tidb-ctl` for schema lease error diagnosis. 3) Enhancing the llm_generate step to synthesize the gathered information into a step-by-step guide for using `tidb-ctl` to diagnose and resolve the issue, ensuring the solution is tailored to the user's context.\n",
      "Please keep all steps up to and including the step (0) unchanged.\n",
      "****************************************************************************************************\n",
      "1 282930766af54277b8a0ed271db6543c 1 0.0\n",
      "main\n",
      "The remaining steps should be optimized to directly address the user's goal of diagnosing and resolving schema lease errors on a single TiDB node using tools like `tidb-ctl`. Specifically, the steps should include detailed instructions on how to use `tidb-ctl` to gather diagnostic data from the affected node. Additionally, the solution should provide actionable steps tailored to the user's context, such as specific commands or configurations to check and adjust. This can be achieved by adding a step to gather specific documentation or examples on using `tidb-ctl` for schema lease error diagnosis, and then using llm_generate to synthesize this information into a practical guide for the user.\n",
      "Please keep all steps up to and including the step (1) unchanged.\n",
      "****************************************************************************************************\n",
      "2 4ca4b3064ac8494a8139a099e65a0590 1 0.0\n",
      "main\n",
      "The remaining steps should be optimized to directly address the user's goal of diagnosing and resolving schema lease errors on a single TiDB node using tools like `tidb-ctl`. Specific improvements include: 1) Adding a step to provide detailed instructions on using `tidb-ctl` to gather diagnostic data related to schema lease errors. This should include commands and expected outputs. 2) Including a step to analyze the gathered data to identify specific issues on the node. 3) Providing actionable steps based on the analysis to resolve the identified issues. This approach will ensure the final answer is tailored to the user's context and provides practical guidance.\n",
      "Please keep all steps up to and including the step (2) unchanged.\n",
      "****************************************************************************************************\n",
      "3 25e13ecf59ad44f09a888c400db1c7b4 1 0.0\n",
      "main\n",
      "The final answer should be optimized to directly address the user's goal of diagnosing and resolving schema lease errors on a single TiDB node using tools like `tidb-ctl`. To improve the answer, new steps should be added to provide specific instructions on using `tidb-ctl` for diagnosing schema lease errors. This includes commands to check the schema version, identify discrepancies, and gather relevant logs. Additionally, the reasoning process should incorporate guidance on interpreting the output from `tidb-ctl` and other diagnostic tools to pinpoint the root cause of the errors. This will ensure the answer is actionable and tailored to the user's context.\n",
      "Please keep all steps up to and including the step (3) unchanged.\n"
     ]
    }
   ],
   "source": [
    "print(\"optimizing task\", task_id)\n",
    "\n",
    "def print_node(node):\n",
    "    print(\"*\" * 100)\n",
    "    print(node.state.seq_no, node.state.commit_hash, node.visits, node.value)\n",
    "    for suggestion in node.optimization_suggestions:\n",
    "        print(suggestion[\"branch_name\"])\n",
    "        print(suggestion[\"suggestion\"])\n",
    "    for child in node.children:\n",
    "        print_node(child)\n",
    "\n",
    "print_node(optimizer.root)"
   ]
  },
  {
   "cell_type": "code",
   "execution_count": null,
   "metadata": {},
   "outputs": [
    {
     "name": "stderr",
     "output_type": "stream",
     "text": [
      "2025-02-18 20:13:43,323 - INFO - plan_mcts_optimizer.py:407 - selected node: 762408de52714372bb777449b7f625db(0)\n",
      "2025-02-18 20:13:46,284 - INFO - engine.py:94 - Registered handler for instruction: calling\n",
      "2025-02-18 20:13:46,284 - INFO - engine.py:94 - Registered handler for instruction: jmp\n",
      "2025-02-18 20:13:46,285 - INFO - engine.py:94 - Registered handler for instruction: assign\n",
      "2025-02-18 20:13:46,285 - INFO - engine.py:94 - Registered handler for instruction: reasoning\n",
      "2025-02-18 20:13:46,674 - INFO - engine.py:408 - State loaded from commit 762408de52714372bb777449b7f625db\n",
      "2025-02-18 20:13:46,675 - INFO - manager.py:446 - Update plan for Task ID e7a7c4d4-bbfd-47d1-9375-0e821032e122 from commit hash: 762408de52714372bb777449b7f625db to address the suggestion: The remaining steps should be optimized to directly address the user's goal of diagnosing and resolving schema lease errors on a single TiDB node using `tidb-ctl`. Specifically, the steps should include: 1) Adding a step to gather specific diagnostic commands and procedures using `tidb-ctl` to check schema versions and lease status on the affected node. 2) Modifying the vector_search step to focus on retrieving documentation or guides specifically related to using `tidb-ctl` for schema lease error diagnosis. 3) Enhancing the llm_generate step to synthesize the gathered information into a step-by-step guide for using `tidb-ctl` to diagnose and resolve the issue, ensuring the solution is tailored to the user's context.\n",
      "Please keep all steps up to and including the step (0) unchanged.\n"
     ]
    }
   ],
   "source": [
    "optimizer.optimize()"
   ]
  },
  {
   "cell_type": "code",
   "execution_count": null,
   "metadata": {},
   "outputs": [],
   "source": [
    "answers = optimizer.sort_final_answers()\n",
    "answers"
   ]
  },
  {
   "cell_type": "code",
   "execution_count": null,
   "metadata": {},
   "outputs": [],
   "source": [
    "from notebooks.tasks import save_best_plan_from_url\n",
    "\n",
    "save_best_plan_from_url(task_id=task_id, commit_hash=answers[0]['commit_hash'])\n",
    "# save_best_plan_from_url(task_id=\"2074ef3a-78d5-4d39-a753-5ba2c86fd0f8\", commit_hash=\"b56ee2672ea2499eb9c36b0f180e89d9\")"
   ]
  }
 ],
 "metadata": {
  "kernelspec": {
   "display_name": "stackvm",
   "language": "python",
   "name": "python3"
  },
  "language_info": {
   "codemirror_mode": {
    "name": "ipython",
    "version": 3
   },
   "file_extension": ".py",
   "mimetype": "text/x-python",
   "name": "python",
   "nbconvert_exporter": "python",
   "pygments_lexer": "ipython3",
   "version": "3.11.10"
  }
 },
 "nbformat": 4,
 "nbformat_minor": 2
}
