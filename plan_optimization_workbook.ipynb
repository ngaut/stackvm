{
 "cells": [
  {
   "cell_type": "code",
   "execution_count": null,
   "metadata": {},
   "outputs": [],
   "source": [
    "import logging\n",
    "logging.basicConfig(\n",
    "    level=logging.INFO,\n",
    "    format=\"%(asctime)s - %(levelname)s - %(filename)s:%(lineno)d - %(message)s\",\n",
    ")\n",
    "\n",
    "from app.instructions import global_tools_hub\n",
    "global_tools_hub.load_tools(\"tools\")"
   ]
  },
  {
   "cell_type": "code",
   "execution_count": null,
   "metadata": {},
   "outputs": [],
   "source": [
    "from notebooks.tasks import get_evaluation_pending_tasks\n",
    "from datetime import datetime, timedelta\n",
    "\n",
    "end_time = datetime.utcnow()\n",
    "start_time = end_time - timedelta(hours=4)\n",
    "\n",
    "pending_tasks = get_evaluation_pending_tasks(\n",
    "    start_time=start_time,\n",
    "    statuses=[\"REJECTED\"]\n",
    ")\n",
    "\n",
    "pending_tasks = [t for t in pending_tasks if t['status'] == \"completed\" and t['human_evaluation_status'] == \"WAITING_FOR_EVALUATION\"]\n",
    "pending_tasks"
   ]
  },
  {
   "cell_type": "code",
   "execution_count": null,
   "metadata": {},
   "outputs": [],
   "source": [
    "from notebooks.plan_mcts_optimizer import MCTSPlanOptimizer\n",
    "\n",
    "# task_id = pending_tasks[0]['id']\n",
    "task_id = \"ba6e8c38-b262-4fca-9e80-e839278dc0e9\"\n",
    "\n",
    "optimizer = MCTSPlanOptimizer(task_id=task_id, max_iterations=3, time_limit_seconds=900)"
   ]
  },
  {
   "cell_type": "code",
   "execution_count": null,
   "metadata": {},
   "outputs": [],
   "source": [
    "print(\"optimizing task\", task_id)\n",
    "\n",
    "def print_node(node):\n",
    "    print(\"*\" * 100)\n",
    "    print(node.state.seq_no, node.state.commit_hash, node.visits, node.value)\n",
    "    for suggestion in node.optimization_suggestions:\n",
    "        print(suggestion[\"branch_name\"])\n",
    "        print(suggestion[\"suggestion\"])\n",
    "    for child in node.children:\n",
    "        print_node(child)\n",
    "\n",
    "print_node(optimizer.root)"
   ]
  },
  {
   "cell_type": "code",
   "execution_count": null,
   "metadata": {},
   "outputs": [],
   "source": [
    "optimizer.optimize()"
   ]
  },
  {
   "cell_type": "code",
   "execution_count": null,
   "metadata": {},
   "outputs": [],
   "source": [
    "answers = optimizer.sort_final_answers()\n",
    "answers"
   ]
  },
  {
   "cell_type": "code",
   "execution_count": null,
   "metadata": {},
   "outputs": [],
   "source": [
    "from notebooks.tasks import save_best_plan_from_url\n",
    "\n",
    "save_best_plan_from_url(task_id=task_id, commit_hash=answers[0]['commit_hash'])\n",
    "# save_best_plan_from_url(task_id=\"c255c42b-c85d-450f-aa2b-b101f37adef8\", commit_hash=\"53c56f51425643e296ac04bdebe751d1\")"
   ]
  },
  {
   "cell_type": "code",
   "execution_count": null,
   "metadata": {},
   "outputs": [],
   "source": [
    "from notebooks.tasks import record_evaluation\n",
    "\n",
    "record_evaluation(task_id, \"APPROVED\", f\"The plan is optimized by the LLM, and choose the best answer among {len(answers)} answers.\")"
   ]
  }
 ],
 "metadata": {
  "kernelspec": {
   "display_name": "stackvm",
   "language": "python",
   "name": "python3"
  },
  "language_info": {
   "codemirror_mode": {
    "name": "ipython",
    "version": 3
   },
   "file_extension": ".py",
   "mimetype": "text/x-python",
   "name": "python",
   "nbconvert_exporter": "python",
   "pygments_lexer": "ipython3",
   "version": "3.11.10"
  }
 },
 "nbformat": 4,
 "nbformat_minor": 2
}
