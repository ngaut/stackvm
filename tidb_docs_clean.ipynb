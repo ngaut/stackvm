{
 "cells": [
  {
   "cell_type": "code",
   "execution_count": 3,
   "metadata": {},
   "outputs": [],
   "source": [
    "import pandas as pd\n",
    "import re\n",
    "\n",
    "def parse_url(url:str):\n",
    "    url_components = url.split(\"/\")\n",
    "    main_version = url_components[-2]\n",
    "    release_note_version = url_components[-1]\n",
    "    return main_version, release_note_version\n",
    "\n",
    "source_urls_df = pd.read_csv(\"output.csv\")\n",
    "source_urls_df['source_uri'] = source_urls_df['source_uri'].str.replace(r'\\t', '', regex=True)\n",
    "source_urls_df[[\"main_version\", \"release_note_version\"]] = source_urls_df[\"source_uri\"].apply(\n",
    "    lambda x: pd.Series(parse_url(x))\n",
    ")"
   ]
  },
  {
   "cell_type": "code",
   "execution_count": 4,
   "metadata": {},
   "outputs": [],
   "source": [
    "source_urls_df = source_urls_df.sort_values(by=[\"release_note_version\", \"main_version\"])\n",
    "source_urls_df.to_csv(\"documents.csv\", index=False)"
   ]
  },
  {
   "cell_type": "code",
   "execution_count": 5,
   "metadata": {},
   "outputs": [],
   "source": [
    "grouped_source_urls_df = source_urls_df.groupby(\"release_note_version\")\n",
    "\n",
    "latest_version_rows = []\n",
    "other_versions_rows = []\n",
    "\n",
    "for release_note_version, group in grouped_source_urls_df:\n",
    "    group_sorted = group.sort_values(by=\"main_version\", ascending=False)\n",
    "    latest_version_rows.append(group_sorted.iloc[0])\n",
    "    if len(group_sorted) > 1:\n",
    "        other_versions_rows.append(group_sorted.iloc[1:])\n",
    "\n",
    "latest_versions_df = pd.DataFrame(latest_version_rows)\n",
    "other_versions_df = pd.concat(other_versions_rows, ignore_index=True) if other_versions_rows else pd.DataFrame()\n",
    "latest_versions_df.to_csv(\"document_latest_versions.csv\", index=False)\n",
    "other_versions_df.to_csv(\"document_other_versions.csv\", index=False)"
   ]
  },
  {
   "cell_type": "code",
   "execution_count": null,
   "metadata": {},
   "outputs": [],
   "source": [
    "# delete from relationships_60001 where document_id in (?,?,?)\n",
    "# delete from chunks_60001 where document_id in (?,?,?)\n",
    "\n",
    "batch_size = 100\n",
    "document_ids = other_versions_df[\"id\"].tolist()\n",
    "\n",
    "delete_relationships_sql = []\n",
    "delete_chunks_sql = []\n",
    "\n",
    "for i in range(0, len(document_ids), batch_size):\n",
    "    batch = document_ids[i:i + batch_size]\n",
    "    ids_list = \",\".join(map(str, batch))\n",
    "    relationships_sql = f\"delete from relationships_60001 where document_id in ({ids_list});\"\n",
    "    chunks_sql = f\"delete from chunks_60001 where document_id in ({ids_list});\"\n",
    "    delete_relationships_sql.append(relationships_sql)\n",
    "    delete_chunks_sql.append(chunks_sql)\n",
    "\n",
    "delete_relationships_sql[:5], delete_chunks_sql[:5]"
   ]
  },
  {
   "cell_type": "code",
   "execution_count": null,
   "metadata": {},
   "outputs": [],
   "source": [
    "for sql in delete_relationships_sql:\n",
    "    print(sql)\n",
    "\n",
    "# totla relationships count = 42607, cleaned 34968"
   ]
  },
  {
   "cell_type": "code",
   "execution_count": null,
   "metadata": {},
   "outputs": [],
   "source": [
    "for sql in delete_chunks_sql:\n",
    "    print(sql)\n",
    "\n",
    "# total chunks count = 25638, cleaned 21005"
   ]
  },
  {
   "cell_type": "code",
   "execution_count": null,
   "metadata": {},
   "outputs": [],
   "source": [
    "\"\"\"\n",
    "SELECT \n",
    "    e.id AS entity_id,\n",
    "    e.name AS entity_name,\n",
    "    COUNT(r.entity_id) AS relationship_count\n",
    "FROM \n",
    "    entities_60001 e\n",
    "LEFT JOIN (\n",
    "    SELECT source_entity_id AS entity_id FROM relationships_60001\n",
    "    UNION ALL\n",
    "    SELECT target_entity_id AS entity_id FROM relationships_60001\n",
    ") r ON e.id = r.entity_id\n",
    "GROUP BY e.id, e.name\n",
    "having relationship_count = 0\n",
    "ORDER BY relationship_count DESC;\n",
    "\"\"\"\n",
    "\n",
    "\"\"\"\n",
    "DELETE FROM entities_60001\n",
    "WHERE id IN (\n",
    "    SELECT e.id\n",
    "    FROM entities_60001 e\n",
    "    LEFT JOIN (\n",
    "        SELECT source_entity_id AS entity_id FROM relationships_60001\n",
    "        UNION ALL\n",
    "        SELECT target_entity_id AS entity_id FROM relationships_60001\n",
    "    ) r ON e.id = r.entity_id\n",
    "    GROUP BY e.id\n",
    "    HAVING COUNT(r.entity_id) = 0\n",
    ");\n",
    "\"\"\"\n",
    "\n",
    "# Total entities count =  35824, cleand 28785"
   ]
  }
 ],
 "metadata": {
  "kernelspec": {
   "display_name": "tidb.ai",
   "language": "python",
   "name": "python3"
  },
  "language_info": {
   "codemirror_mode": {
    "name": "ipython",
    "version": 3
   },
   "file_extension": ".py",
   "mimetype": "text/x-python",
   "name": "python",
   "nbconvert_exporter": "python",
   "pygments_lexer": "ipython3",
   "version": "3.12.4"
  }
 },
 "nbformat": 4,
 "nbformat_minor": 2
}
