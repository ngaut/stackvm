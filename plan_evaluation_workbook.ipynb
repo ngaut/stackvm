{
 "cells": [
  {
   "cell_type": "code",
   "execution_count": 1,
   "metadata": {},
   "outputs": [
    {
     "name": "stderr",
     "output_type": "stream",
     "text": [
      "2025-02-18 17:39:47,657 - apscheduler.scheduler - INFO - Adding job tentatively -- it will be properly scheduled when the scheduler starts\n",
      "2025-02-18 17:39:47,659 - apscheduler.scheduler - INFO - Added job \"SimpleCache.refresh_cache\" to job store \"default\"\n",
      "2025-02-18 17:39:47,659 - apscheduler.scheduler - INFO - Scheduler started\n",
      "2025-02-18 17:39:47,660 - app.core.task.simple_cache - INFO - Started cache refresh scheduler to run every 24 hours.\n",
      "2025-02-18 17:39:47,660 - app.core.task.simple_cache - INFO - Starting cache refresh...\n",
      "2025-02-18 17:39:48,102 - app.core.task.simple_cache - INFO - Cache refresh completed successfully.\n"
     ]
    }
   ],
   "source": [
    "import json\n",
    "from typing import Optional\n",
    "\n",
    "from app.core.plan.evaluator import evaulate_answer\n",
    "from app.llm.interface import LLMInterface\n",
    "from app.config.settings import EVALUATION_LLM_PROVIDER, EVALUATION_LLM_MODEL\n",
    "\n",
    "from notebooks.plan_chat_optimizer import get_task_answer, update_plan, execute_task_using_new_plan\n",
    "from notebooks.tasks import get_evaluation_pending_tasks, record_evaluation\n",
    "\n",
    "eval_llm = LLMInterface(EVALUATION_LLM_PROVIDER, EVALUATION_LLM_MODEL)\n",
    "\n",
    "def optimize_plan(task_id:str, branch_name:Optional[str]=\"main\", max_iteration=3):\n",
    "    current_branch_name = branch_name\n",
    "    error_message = None\n",
    "    iteration_round = 0\n",
    "\n",
    "    while True:\n",
    "        iteration_round += 1\n",
    "        print(f\"Start to evaluate plan for task(id={task_id},branch={current_branch_name})\")\n",
    "        detail = get_task_answer(task_id, current_branch_name)\n",
    "\n",
    "        if detail is not None:\n",
    "            goal = detail.get(\"goal\")\n",
    "            final_answer = detail.get(\"final_answer\")\n",
    "            plan = detail.get(\"plan\")\n",
    "            metadata = detail.get(\"metadata\")\n",
    "\n",
    "            if plan is None:\n",
    "                record_evaluation(task_id, \"REJECTED\", \"No plan found\")\n",
    "                return\n",
    "\n",
    "            eval_res = evaulate_answer(eval_llm, goal, metadata, final_answer, plan)\n",
    "            eval_status = \"APPROVED\" if eval_res.get(\"accept\", False) else \"WAITING_FOR_EVALUATION\"\n",
    "            eval_reason = json.dumps(eval_res, indent=2) \n",
    "\n",
    "            record_evaluation(task_id, eval_status, eval_reason)\n",
    "\n",
    "            if eval_res.get(\"accept\", False) is True:\n",
    "                print(f\"Goal Pass! {goal}, evaluation result:{eval_reason}\")\n",
    "                return\n",
    "\n",
    "            print(f\"Goal Not Pass! {goal}, the evaluation result:{eval_reason}\")\n",
    "\n",
    "            if iteration_round >= max_iteration:\n",
    "                break\n",
    "\n",
    "            revised_plan = update_plan(goal, metadata, eval_reason, plan)\n",
    "            print(\"revised plan:\", revised_plan)\n",
    "            reasoning = revised_plan.get(\"reasoning\", None)\n",
    "            revised_plan = revised_plan.get(\"plan\", None)\n",
    "\n",
    "            try:\n",
    "                updated_result = execute_task_using_new_plan(task_id, revised_plan, reasoning)\n",
    "                print(f\"Revised plan execution result {updated_result}\")\n",
    "            except Exception as e:\n",
    "                error_message = f\"Failed to execute task using new plan {e}\"\n",
    "                break\n",
    "            \n",
    "            current_branch_name = updated_result.get(\"branch_name\", None)\n",
    "            current_final_answer = updated_result.get(\"final_answer\", None)\n",
    "            if current_branch_name is None or current_final_answer is None:\n",
    "                error_message = \"Failed to execut task using new plan, get empty answer\"\n",
    "                break\n",
    "    \n",
    "    if error_message is None:\n",
    "        error_message = \"Still failed after two evaluations round.\"\n",
    "    print(f\"Failed to evaluate plan for task(id={task_id}): {error_message}\")\n"
   ]
  },
  {
   "cell_type": "code",
   "execution_count": 2,
   "metadata": {},
   "outputs": [
    {
     "name": "stderr",
     "output_type": "stream",
     "text": [
      "2025-02-18 17:39:52,644 - app.core.task.manager - INFO - Retrieved 3 tasks with evaluation statuses [<EvaluationStatus.NOT_EVALUATED: 'NOT_EVALUATED'>] between 2025-02-18 07:39:52.418279 and 2025-02-18 09:39:52.418331.\n"
     ]
    },
    {
     "data": {
      "text/plain": [
       "[{'id': '3a01484c-7916-4f49-b91c-913a0c303fb8',\n",
       "  'goal': 'Can you understand the Arabic language?',\n",
       "  'status': 'completed',\n",
       "  'created_at': datetime.datetime(2025, 2, 18, 9, 38, 56),\n",
       "  'updated_at': datetime.datetime(2025, 2, 18, 9, 39, 6),\n",
       "  'logs': 'Plan execution completed.',\n",
       "  'best_plan': None,\n",
       "  'metadata': {'label_path': [{'label': 'Other Topics'},\n",
       "    {'label': 'Unclear Context'}],\n",
       "   'response_format': {'Annotations': 'The question is about the language comprehension abilities of the TiDB Docs Bot, not directly related to TiDB features or functionalities.',\n",
       "    'Background': 'The user is inquiring about the language capabilities of the TiDB Docs Bot, specifically whether it can understand and respond in Arabic',\n",
       "    'Format': 'text',\n",
       "    'Lang': 'Arabic'}},\n",
       "  'evaluation_status': 'NOT_EVALUATED',\n",
       "  'human_evaluation_status': 'NOT_EVALUATED'},\n",
       " {'id': '87a91c09-ea08-4898-90e7-24cfbb78e5d2',\n",
       "  'goal': 'What does \"hh\" mean in the context of TiDB or how can I assist you with TiDB-related questions?',\n",
       "  'status': 'completed',\n",
       "  'created_at': datetime.datetime(2025, 2, 18, 9, 14, 57),\n",
       "  'updated_at': datetime.datetime(2025, 2, 18, 9, 15, 12),\n",
       "  'logs': 'Plan execution completed.',\n",
       "  'best_plan': None,\n",
       "  'metadata': {'label_path': [{'label': 'Other Topics'},\n",
       "    {'label': 'Unclear Context'}],\n",
       "   'response_format': {'Annotations': 'The original input <hh> is unclear, and the user might need guidance on how to proceed with TiDB-related inquiries.',\n",
       "    'Background': 'The user input \"hh\" is ambiguous and could be a casual expression or typo; clarify if the user needs assistance with TiDB',\n",
       "    'Format': 'text',\n",
       "    'Lang': 'English'}},\n",
       "  'evaluation_status': 'NOT_EVALUATED',\n",
       "  'human_evaluation_status': 'NOT_EVALUATED'},\n",
       " {'id': 'b02a74d7-6d76-4ed8-939c-55fede235891',\n",
       "  'goal': 'What are the potential errors that might be encountered when using TiUP?',\n",
       "  'status': 'completed',\n",
       "  'created_at': datetime.datetime(2025, 2, 18, 9, 34, 49),\n",
       "  'updated_at': datetime.datetime(2025, 2, 18, 9, 35, 39),\n",
       "  'logs': 'Plan execution completed.',\n",
       "  'best_plan': None,\n",
       "  'metadata': {'label_path': [{'label': 'Troubleshooting'},\n",
       "    {'label': 'Common Issues'}],\n",
       "   'response_format': {'Annotations': 'User is seeking information on common errors and troubleshooting tips related to the use of TiUP in managing TiDB clusters.',\n",
       "    'Background': 'TiUP is a cluster management tool for TiDB, and users may encounter various errors related to installation, deployment, scaling, and configuration. Understanding common errors and their solutions is crucial for effective TiDB cluster management',\n",
       "    'Format': 'text',\n",
       "    'Lang': 'Chinese'}},\n",
       "  'evaluation_status': 'NOT_EVALUATED',\n",
       "  'human_evaluation_status': 'NOT_EVALUATED'}]"
      ]
     },
     "execution_count": 2,
     "metadata": {},
     "output_type": "execute_result"
    }
   ],
   "source": [
    "from datetime import datetime, timedelta\n",
    "\n",
    "end_time = datetime.utcnow()\n",
    "start_time = end_time - timedelta(hours=2)\n",
    "\n",
    "pending_tasks = get_evaluation_pending_tasks(\n",
    "    start_time=start_time\n",
    ")\n",
    "pending_tasks"
   ]
  },
  {
   "cell_type": "code",
   "execution_count": 3,
   "metadata": {},
   "outputs": [
    {
     "name": "stderr",
     "output_type": "stream",
     "text": [
      "2025-02-18 17:39:57,661 - apscheduler.executors.default - INFO - Running job \"SimpleCache.refresh_cache (trigger: interval[1 day, 0:00:00], next run at: 2025-02-18 17:39:57 +08)\" (scheduled at 2025-02-18 17:39:57.656878+08:00)\n",
      "2025-02-18 17:39:57,664 - app.core.task.simple_cache - INFO - Starting cache refresh...\n",
      "2025-02-18 17:39:58,423 - app.core.task.simple_cache - INFO - Cache refresh completed successfully.\n",
      "2025-02-18 17:39:58,423 - apscheduler.executors.default - INFO - Job \"SimpleCache.refresh_cache (trigger: interval[1 day, 0:00:00], next run at: 2025-02-19 17:39:57 +08)\" executed successfully\n"
     ]
    },
    {
     "name": "stdout",
     "output_type": "stream",
     "text": [
      "Start to evaluate plan for task(id=3a01484c-7916-4f49-b91c-913a0c303fb8,branch=main)\n"
     ]
    },
    {
     "name": "stderr",
     "output_type": "stream",
     "text": [
      "2025-02-18 17:40:00,942 - httpx - INFO - HTTP Request: POST https://api.openai.com/v1/chat/completions \"HTTP/1.1 200 OK\"\n"
     ]
    },
    {
     "name": "stdout",
     "output_type": "stream",
     "text": [
      "Goal Pass! Can you understand the Arabic language?, evaluation result:{\n",
      "  \"accept\": true,\n",
      "  \"plan_adjustment_suggestion\": \"The Plan successfully generated an appropriate response to the user's inquiry about language comprehension. However, the Plan could be improved by explicitly including a step to verify the language capabilities of the TiDB Docs Bot, ensuring that the response is not only generated in Arabic but also accurately reflects the bot's capabilities. Additionally, the Plan could benefit from a dual retrieval process to confirm the language capabilities before generating the final answer.\",\n",
      "  \"goal_classification\": \"Direct Problem Resolution\"\n",
      "}\n",
      "Start to evaluate plan for task(id=87a91c09-ea08-4898-90e7-24cfbb78e5d2,branch=main)\n"
     ]
    },
    {
     "name": "stderr",
     "output_type": "stream",
     "text": [
      "2025-02-18 17:40:04,553 - httpx - INFO - HTTP Request: POST https://api.openai.com/v1/chat/completions \"HTTP/1.1 200 OK\"\n"
     ]
    },
    {
     "name": "stdout",
     "output_type": "stream",
     "text": [
      "Goal Pass! What does \"hh\" mean in the context of TiDB or how can I assist you with TiDB-related questions?, evaluation result:{\n",
      "  \"accept\": true,\n",
      "  \"plan_adjustment_suggestion\": \"The Plan could be improved by incorporating a dual retrieval process to ensure that any potential meanings of 'hh' related to TiDB are explored more thoroughly. This would involve using both retrieve_knowledge_graph and vector_search tools to gather any relevant information before generating the LLM response. Additionally, the Plan could include a step to explicitly ask the user for more context or clarification if the initial interpretation is uncertain.\",\n",
      "  \"goal_classification\": \"Direct Problem Resolution\"\n",
      "}\n",
      "Start to evaluate plan for task(id=b02a74d7-6d76-4ed8-939c-55fede235891,branch=main)\n"
     ]
    },
    {
     "name": "stderr",
     "output_type": "stream",
     "text": [
      "2025-02-18 17:40:07,704 - httpx - INFO - HTTP Request: POST https://api.openai.com/v1/chat/completions \"HTTP/1.1 200 OK\"\n"
     ]
    },
    {
     "name": "stdout",
     "output_type": "stream",
     "text": [
      "Goal Pass! What are the potential errors that might be encountered when using TiUP?, evaluation result:{\n",
      "  \"accept\": true,\n",
      "  \"plan_adjustment_suggestion\": \"The Plan is generally well-structured, but it could be improved by ensuring that the dual retrieval process is explicitly followed by immediate processing through the LLM generation tool. This would ensure that the combined insights are synthesized effectively. Additionally, the Plan could include a step to verify the relevance and applicability of the retrieved information to avoid any potential inclusion of irrelevant data.\",\n",
      "  \"goal_classification\": \"Direct Problem Resolution\"\n",
      "}\n"
     ]
    }
   ],
   "source": [
    "for task in pending_tasks:\n",
    "    task_id = task[\"id\"]\n",
    "    optimize_plan(task_id, \"main\", max_iteration=1)"
   ]
  }
 ],
 "metadata": {
  "kernelspec": {
   "display_name": "stackvm",
   "language": "python",
   "name": "python3"
  },
  "language_info": {
   "codemirror_mode": {
    "name": "ipython",
    "version": 3
   },
   "file_extension": ".py",
   "mimetype": "text/x-python",
   "name": "python",
   "nbconvert_exporter": "python",
   "pygments_lexer": "ipython3",
   "version": "3.11.10"
  }
 },
 "nbformat": 4,
 "nbformat_minor": 2
}
