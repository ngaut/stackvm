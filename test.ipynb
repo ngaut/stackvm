{
 "cells": [
  {
   "cell_type": "code",
   "execution_count": 1,
   "metadata": {},
   "outputs": [],
   "source": [
    "from app.llm.providers.bedrock import BedrockProvider\n",
    "\n",
    "client = BedrockProvider(\"us.anthropic.claude-3-7-sonnet-20250219-v1:0\")"
   ]
  },
  {
   "cell_type": "code",
   "execution_count": 2,
   "metadata": {},
   "outputs": [
    {
     "data": {
      "text/plain": [
       "'Hello! It\\'s great to connect with you. The classic \"Hello, world!\" is a programming tradition that brings back memories of first learning to code. How can I help you today? Feel free to ask me anything or let me know what\\'s on your mind.'"
      ]
     },
     "execution_count": 2,
     "metadata": {},
     "output_type": "execute_result"
    }
   ],
   "source": [
    "client.generate(\"Hello, world!\")"
   ]
  },
  {
   "cell_type": "code",
   "execution_count": 3,
   "metadata": {},
   "outputs": [
    {
     "name": "stdout",
     "output_type": "stream",
     "text": [
      "Hello!\n",
      " It's nice to\n",
      " meet you. How\n",
      " can I help\n",
      " you today?\n",
      " I'm ready\n",
      " to assist with information\n",
      ", answer questions, or\n",
      " just chat\n",
      " about whatever\n",
      "'s on your mind.\n"
     ]
    }
   ],
   "source": [
    "import json\n",
    "\n",
    "messages = [{\"role\": \"user\", \"content\": [{\"text\": \"Hello, world!\"}]}]\n",
    "\n",
    "response_stream = client.generate_stream(\"Hello, world!\")\n",
    "for chunk in response_stream:\n",
    "    print(chunk)"
   ]
  }
 ],
 "metadata": {
  "kernelspec": {
   "display_name": "stackvm",
   "language": "python",
   "name": "python3"
  },
  "language_info": {
   "codemirror_mode": {
    "name": "ipython",
    "version": 3
   },
   "file_extension": ".py",
   "mimetype": "text/x-python",
   "name": "python",
   "nbconvert_exporter": "python",
   "pygments_lexer": "ipython3",
   "version": "3.11.10"
  }
 },
 "nbformat": 4,
 "nbformat_minor": 2
}
