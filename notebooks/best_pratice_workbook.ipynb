{
 "cells": [
  {
   "cell_type": "code",
   "execution_count": 1,
   "metadata": {},
   "outputs": [
    {
     "name": "stdout",
     "output_type": "stream",
     "text": [
      "Warning: spec.md file not found at /Users/ianz/Work/stackvm/notebooks/spec.md\n"
     ]
    }
   ],
   "source": [
    "import sys\n",
    "sys.path.append(\"..\")  # Add the project root to Python path\n",
    "from app.controller.label_classifier import LabelClassifier, get_labels_tree_with_task_goals\n",
    "\n",
    "classifer = LabelClassifier()"
   ]
  },
  {
   "cell_type": "code",
   "execution_count": null,
   "metadata": {},
   "outputs": [],
   "source": [
    "labels_tree_with_task = get_labels_tree_with_task_goals()\n",
    "labels_tree_with_task"
   ]
  },
  {
   "cell_type": "code",
   "execution_count": 2,
   "metadata": {},
   "outputs": [
    {
     "data": {
      "text/plain": [
       "[{'label': 'Operation Guide',\n",
       "  'description': 'Looking for step-by-step instructions to perform specific operations. Covers topics like deployment procedures, feature configuration, and maintenance tasks.'},\n",
       " {'label': 'Basic Operations',\n",
       "  'description': 'Instructions and information on performing fundamental operations within TiDB, such as upgrading and version checking'}]"
      ]
     },
     "execution_count": 2,
     "metadata": {},
     "output_type": "execute_result"
    }
   ],
   "source": [
    "task_id = 'a810d254-fa6a-4779-bdea-3d597bb24c77'\n",
    "task_goal= 'how to define internal variables in topology for tiup?'\n",
    "\n",
    "label_path = classifer.generate_label_description(task_goal)\n",
    "label_path"
   ]
  },
  {
   "cell_type": "code",
   "execution_count": null,
   "metadata": {},
   "outputs": [],
   "source": [
    "label_path = [\n",
    "    {\n",
    "        'label': 'Other Topics',\n",
    "        'description': \"General technical discussions and queries that don't fit into the other categories.\"\n",
    "    }, {\n",
    "        'label': 'Gather and Answer',\n",
    "        'description': \"Questions that can be addressed by first gathering additional information and attempting an answer based on the context.\"\n",
    "    }\n",
    "]"
   ]
  },
  {
   "cell_type": "code",
   "execution_count": 3,
   "metadata": {},
   "outputs": [],
   "source": [
    "classifer.insert_label_path(task_id, label_path)"
   ]
  },
  {
   "cell_type": "code",
   "execution_count": null,
   "metadata": {},
   "outputs": [],
   "source": [
    "import requests\n",
    "\n",
    "def save_best_plan_from_url(url):\n",
    "    \n",
    "    try:\n",
    "        # Split URL by '/' and extract components\n",
    "        parts = url.split('/')\n",
    "        \n",
    "        # Find index of 'tasks' and extract task_id and commit_hash\n",
    "        if 'tasks' in parts:\n",
    "            tasks_index = parts.index('tasks')\n",
    "            if len(parts) < tasks_index + 4:  # Ensure we have enough parts after 'tasks'\n",
    "                raise ValueError(\"Invalid URL format\")\n",
    "                \n",
    "            task_id = parts[tasks_index + 1]\n",
    "            commit_hash = parts[tasks_index + 3]\n",
    "\n",
    "            url = f\"https://stackvm.tidb.ai/api/tasks/{task_id}/commits/{commit_hash}/save_best_plan\"\n",
    "            response = requests.post(url)\n",
    "            if response.status_code != 200:\n",
    "                raise ValueError(\"Failed to save best plan\")\n",
    "            \n",
    "    except Exception as e:\n",
    "        print(e)\n",
    "        return False\n",
    "    \n",
    "    return True\n",
    "\n",
    "url = \"https://stackvm-ui.vercel.app/tasks/6e4a125d-8a99-4a5b-bbea-57d83fa8cf42/optimize_step_20250104_051743/8620fc3b97f643458590eaaaa0a4fe07/final-answer\"\n",
    "save_best_plan_from_url(url)\n"
   ]
  },
  {
   "cell_type": "code",
   "execution_count": null,
   "metadata": {},
   "outputs": [],
   "source": [
    "from app.controller.label_classifier import find_longest_matching_node, get_all_tasks_under_node, get_task_plans\n",
    "\n",
    "labels = [\n",
    "    {\n",
    "        \"label\": \"Basic Knowledge\",\n",
    "        \"description\": \"Queries about simple facts or common knowledge, such as Concept Explanation, Feature Support.\"\n",
    "    }\n",
    "]\n",
    "\n",
    "matching_node = find_longest_matching_node(labels_tree_with_task, labels)\n",
    "tasks = get_all_tasks_under_node(matching_node)\n",
    "tasks_plan = get_task_plans([task[\"id\"] for task in tasks])\n",
    "tasks_plan"
   ]
  },
  {
   "cell_type": "code",
   "execution_count": 4,
   "metadata": {},
   "outputs": [],
   "source": [
    "from typing import Dict, Any, List\n",
    "\n",
    "def format_tasks_plans(\n",
    "    node: Dict[str, Any],\n",
    "    task_plans: Dict[str, Dict[str, Any]],\n",
    "    current_path: List[str] = None\n",
    ") -> str:\n",
    "    \"\"\"\n",
    "    Traverses the tree structure and formats each task into a specified text format.\n",
    "\n",
    "    Parameters:\n",
    "    - node (Dict[str, Any]): The current node in the tree.\n",
    "    - task_plans (Dict[str, Dict[str, Any]]): A dictionary mapping task IDs to their best plans.\n",
    "    - current_path (List[str], optional): The path of labels from the root to the current node.\n",
    "\n",
    "    Returns:\n",
    "    - str: The formatted text containing all tasks.\n",
    "    \"\"\"\n",
    "    if current_path is None:\n",
    "        current_path = []\n",
    "\n",
    "    output = []\n",
    "\n",
    "    # Update the current path with the current node's name\n",
    "    node_name = node.get(\"name\", \"\")\n",
    "    new_path = current_path + [node_name] if node_name else current_path\n",
    "\n",
    "    # Process tasks in the current node\n",
    "    tasks = node.get(\"tasks\", [])\n",
    "    for task in tasks:\n",
    "        task_id = task.get(\"id\")\n",
    "        task_goal = task.get(\"goal\")\n",
    "        best_plan = task_plans.get(task_id, {}).get(\"best_plan\",  None)\n",
    "        if best_plan is None:\n",
    "            continue\n",
    "\n",
    "        task_text = (\n",
    "            f\"task: {task_goal}\\n\"\n",
    "            f\"label_path: {' -> '.join(new_path)}\\n\"\n",
    "            f\"best_plan: {best_plan}\\n\"\n",
    "            \"-------\\n\"\n",
    "        )\n",
    "        output.append(task_text)\n",
    "\n",
    "    # Recursively process child nodes\n",
    "    children = node.get(\"children\", [])\n",
    "    for child in children:\n",
    "        output.append(format_tasks_plans(child, task_plans, new_path))\n",
    "\n",
    "    return ''.join(output)"
   ]
  },
  {
   "cell_type": "code",
   "execution_count": null,
   "metadata": {},
   "outputs": [],
   "source": [
    "from app.services.llm_interface import LLMInterface\n",
    "from app.config.settings import LLM_PROVIDER, FAST_LLM_MODEL\n",
    "from app.services import get_best_pratices_prompt\n",
    "\n",
    "\n",
    "formatted_task_plan =  format_tasks_plans(matching_node, tasks_plan)\n",
    "label_path = ' -> '.join([label[\"label\"] for label in labels])\n",
    "prompt = get_best_pratices_prompt(label_path, formatted_task_plan)\n",
    "\n",
    "best_pratices_str = LLMInterface(LLM_PROVIDER, FAST_LLM_MODEL).generate(prompt)\n",
    "print(best_pratices_str)"
   ]
  },
  {
   "cell_type": "code",
   "execution_count": 13,
   "metadata": {},
   "outputs": [],
   "source": [
    "best_pratices_str = \"\"\" To solve tasks in the <Basic Knowledge> category, please follow this approach:\n",
    "1.\tBreakdown the goal into small question (if Necessary):\n",
    "  - Purpose: Break down complex questions into smaller sub-questions to ensure all aspects are thoroughly covered.\n",
    "  - Note: For straightforward questions, you can skip this step and proceed directly.\n",
    "\n",
    "2. Simultaneously Use Multiple Search Tools to Retrieve Information:\n",
    "  - Knowledge Graph Search: Obtain structured, high-level information.\n",
    "  - Vector Search: Retrieve detailed, unstructured documents and examples.\n",
    "  - Strategy: Use both search tools simultaneously for each (sub) question to ensure comprehensive information gathering.\n",
    "\n",
    "3. Use LLM to Generate the Final Answer:\n",
    "  - Integrate Information: Compile all the retrieved data.\n",
    "  - Generate Answer: Utilize the LLM to summarize the information, producing an accurate and coherent response.\n",
    "\n",
    "Essence Summary:\n",
    "\n",
    "- Comprehensive Retrieval Enhances Information Coverage: By simultaneously using knowledge graph search and vector search, you gather rich and comprehensive information.\n",
    "- Efficient Process with Simplified Steps: If needed, split the question, then proceed directly to information retrieval and answer generation, avoiding unnecessary procedures.\n",
    "- Accurate Generation Ensures Answer Quality: Use the LLM to integrate the retrieved information, providing precise and valuable answers.\"\"\"\n"
   ]
  },
  {
   "cell_type": "code",
   "execution_count": 17,
   "metadata": {},
   "outputs": [],
   "source": [
    "from app.models.label import Label\n",
    "from app.database import SessionLocal\n",
    "\n",
    "with SessionLocal() as session:\n",
    "    label = session.query(Label).filter(Label.name == labels[-1].get(\"label\")).first()\n",
    "    label.best_practices = best_pratices_str\n",
    "    session.add(label)\n",
    "    session.commit()"
   ]
  }
 ],
 "metadata": {
  "kernelspec": {
   "display_name": "stackvm",
   "language": "python",
   "name": "python3"
  },
  "language_info": {
   "codemirror_mode": {
    "name": "ipython",
    "version": 3
   },
   "file_extension": ".py",
   "mimetype": "text/x-python",
   "name": "python",
   "nbconvert_exporter": "python",
   "pygments_lexer": "ipython3",
   "version": "3.11.10"
  }
 },
 "nbformat": 4,
 "nbformat_minor": 2
}
