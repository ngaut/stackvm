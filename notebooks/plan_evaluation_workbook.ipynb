{
 "cells": [
  {
   "cell_type": "code",
   "execution_count": 9,
   "metadata": {},
   "outputs": [],
   "source": [
    "import sys\n",
    "sys.path.append(\"..\")  # Add the project root to Python path\n",
    "\n",
    "import requests\n",
    "import json\n",
    "import os\n",
    "\n",
    "stackvm_host = os.getenv(\"STACKVM_HOST\", None)\n",
    "assert stackvm_host is not None, \"STACKVM_HOST environment variable is not set.\"\n",
    "\n",
    "def get_task_branch_answer_detail(task_id: str, branch_name: str) -> dict:\n",
    "    \"\"\"\n",
    "    Retrieves the answer detail for a specific task and branch using the API.\n",
    "\n",
    "    Args:\n",
    "        task_id: The ID of the task.\n",
    "        branch_name: The name of the branch.\n",
    "        base_url: The base URL of the API.\n",
    "\n",
    "    Returns:\n",
    "        A dictionary containing the API response, or None if an error occurred.\n",
    "    \"\"\"\n",
    "    url = f\"{stackvm_host}/api/tasks/{task_id}/branches/{branch_name}/answer_detail\"\n",
    "    try:\n",
    "        response = requests.get(url)\n",
    "        response.raise_for_status()  # Raise HTTPError for bad responses (4xx or 5xx)\n",
    "        return response.json()\n",
    "    except requests.exceptions.RequestException as e:\n",
    "        print(f\"Error during request: {e}\")\n",
    "        return None\n",
    "    except json.JSONDecodeError as e:\n",
    "        print(f\"Error decoding JSON response: {e}\")\n",
    "        return None\n"
   ]
  },
  {
   "cell_type": "code",
   "execution_count": 10,
   "metadata": {},
   "outputs": [
    {
     "name": "stdout",
     "output_type": "stream",
     "text": [
      "Error during request: 404 Client Error: NOT FOUND for url: https://stackvm.tidb.ai/api/tasks/4460d99e-50ad-4de1-b4f1-24eebe44ddc3/branch/main/answer_detail\n"
     ]
    }
   ],
   "source": [
    "detail = get_task_branch_answer_detail('4460d99e-50ad-4de1-b4f1-24eebe44ddc3', 'main')"
   ]
  }
 ],
 "metadata": {
  "kernelspec": {
   "display_name": "stackvm",
   "language": "python",
   "name": "python3"
  },
  "language_info": {
   "codemirror_mode": {
    "name": "ipython",
    "version": 3
   },
   "file_extension": ".py",
   "mimetype": "text/x-python",
   "name": "python",
   "nbconvert_exporter": "python",
   "pygments_lexer": "ipython3",
   "version": "3.11.10"
  }
 },
 "nbformat": 4,
 "nbformat_minor": 2
}
